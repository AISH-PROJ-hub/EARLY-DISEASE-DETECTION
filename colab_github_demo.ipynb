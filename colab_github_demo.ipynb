{
  "cells": [
    {
      "cell_type": "code",
      "execution_count": null,
      "metadata": {
        "id": "3VQqVi-3ScBC"
      },
      "outputs": [],
      "source": [
        "input# Baby vitals input\n",
        "pulse_rate = int(input(\"Enter baby's pulse rate (bpm): \"))\n",
        "weight = float(input(\"Enter baby's weight (kg): \"))\n",
        "temperature = float(input(\"Enter baby's temperature (°C): \"))\n",
        "\n",
        "print(\"\\nBaby's Vitals:\")\n",
        "print(\"Pulse Rate:\", pulse_rate, \"bpm\")\n",
        "print(\"Weight:\", weight, \"kg\")\n",
        "print(\"Temperature:\", temperature, \"°C\")\n"
      ]
    },
    {
      "cell_type": "code",
      "source": [
        "# Thresholds (example values)\n",
        "pulse_low, pulse_high = 100, 180\n",
        "temp_low, temp_high = 36, 38\n",
        "weight_low, weight_high = 2.0, 5.0  # typical newborn weight in kg\n",
        "\n",
        "# Abnormal check\n",
        "abnormal = []\n",
        "\n",
        "if pulse_rate < pulse_low or pulse_rate > pulse_high:\n",
        "    abnormal.append(\"Pulse Rate abnormal\")\n",
        "\n",
        "if temperature < temp_low or temperature > temp_high:\n",
        "    abnormal.append(\"Temperature abnormal\")\n",
        "\n",
        "if weight < weight_low or weight > weight_high:\n",
        "    abnormal.append(\"Weight abnormal\")\n",
        "\n",
        "# Display result\n",
        "if abnormal:\n",
        "    print(\"\\nALERT! Check the following vitals:\", \", \".join(abnormal))\n",
        "else:\n",
        "    print(\"\\nAll vitals are within normal range ✅\")\n"
      ],
      "metadata": {
        "id": "7yV3GnonPulg"
      },
      "execution_count": null,
      "outputs": []
    },
    {
      "cell_type": "code",
      "source": [
        "import matplotlib.pyplot as plt\n",
        "from IPython.display import display, clear_output\n",
        "import time\n",
        "import random  # for simulated real-time data\n"
      ],
      "metadata": {
        "id": "RewJ6ezKQ6Tn"
      },
      "execution_count": null,
      "outputs": []
    },
    {
      "cell_type": "code",
      "source": [
        "# Initialize empty lists for vitals\n",
        "pulse_data = []\n",
        "weight_data = []\n",
        "temp_data = []\n",
        "\n",
        "time_steps = []  # x-axis (time points)\n"
      ],
      "metadata": {
        "id": "tiM1sz_lQ82u"
      },
      "execution_count": null,
      "outputs": []
    },
    {
      "cell_type": "code",
      "source": [
        "# Number of data points to simulate\n",
        "num_points = 20\n",
        "\n",
        "for t in range(num_points):\n",
        "    # Simulate new readings (replace with sensor input if available)\n",
        "    new_pulse = random.randint(100, 160)       # BPM\n",
        "    new_weight = round(random.uniform(2.5, 4.0), 2)  # kg\n",
        "    new_temp = round(random.uniform(36.0, 38.0), 1)  # °C\n",
        "\n",
        "    # Append to lists\n",
        "    pulse_data.append(new_pulse)\n",
        "    weight_data.append(new_weight)\n",
        "    temp_data.append(new_temp)\n",
        "    time_steps.append(t+1)\n",
        "\n",
        "    # Clear previous output (to simulate live update)\n",
        "    clear_output(wait=True)\n",
        "\n",
        "    # Plot Pulse Rate\n",
        "    plt.figure(figsize=(15,4))\n",
        "    plt.subplot(1,3,1)\n",
        "    plt.plot(time_steps, pulse_data, color='blue', marker='o')\n",
        "    plt.title(\"Pulse Rate (BPM)\")\n",
        "    plt.xlabel(\"Time\")\n",
        "    plt.ylabel(\"BPM\")\n",
        "    plt.ylim(80,180)\n",
        "\n",
        "    # Plot Weight\n",
        "    plt.subplot(1,3,2)\n",
        "    plt.plot(time_steps, weight_data, color='green', marker='o')\n",
        "    plt.title(\"Weight (kg)\")\n",
        "    plt.xlabel(\"Time\")\n",
        "    plt.ylabel(\"kg\")\n",
        "    plt.ylim(2,5)\n",
        "\n",
        "    # Plot Temperature\n",
        "    plt.subplot(1,3,3)\n",
        "    plt.plot(time_steps, temp_data, color='red', marker='o')\n",
        "    plt.title(\"Temperature (°C)\")\n",
        "    plt.xlabel(\"Time\")\n",
        "    plt.ylabel(\"°C\")\n",
        "    plt.ylim(35,39)\n",
        "\n",
        "    plt.tight_layout()\n",
        "    plt.show()\n",
        "\n",
        "    time.sleep(0.5)  # wait half a second to simulate real-time\n"
      ],
      "metadata": {
        "id": "5asUpp7NQ7kP"
      },
      "execution_count": null,
      "outputs": []
    },
    {
      "cell_type": "code",
      "source": [
        "if new_pulse < 100 or new_pulse > 180:\n",
        "    print(\"ALERT: Pulse abnormal!\")\n"
      ],
      "metadata": {
        "id": "L4RY8h8KRBYm"
      },
      "execution_count": null,
      "outputs": []
    }
  ],
  "metadata": {
    "colab": {
      "name": "colab-github-demo.ipynb",
      "provenance": []
    },
    "kernelspec": {
      "display_name": "Python 3",
      "name": "python3"
    }
  },
  "nbformat": 4,
  "nbformat_minor": 0
}